{
 "cells": [
  {
   "cell_type": "code",
   "execution_count": 356,
   "metadata": {},
   "outputs": [],
   "source": [
    "import svgwrite\n",
    "import numpy as np"
   ]
  },
  {
   "cell_type": "code",
   "execution_count": 400,
   "metadata": {},
   "outputs": [],
   "source": [
    "dwg = svgwrite.Drawing('connector.svg')"
   ]
  },
  {
   "cell_type": "code",
   "execution_count": 401,
   "metadata": {},
   "outputs": [],
   "source": [
    "segment_stroke = {'stroke': 'black', 'stroke_width': 2.5}\n",
    "arrow_blue = {'stroke': 'blue', 'stroke_width': 1.5}\n",
    "arrow_stroke = {'stroke': 'green', 'stroke_width': 1.5}"
   ]
  },
  {
   "cell_type": "code",
   "execution_count": 402,
   "metadata": {},
   "outputs": [],
   "source": [
    "x_unit = np.array([1,0])\n",
    "y_unit = np.array([0,-1])\n",
    "origin = np.array([0,0])\n",
    "length = 120\n",
    "arrow_len = 20\n",
    "t = 30\n",
    "def draw(orig=np.array([0,0]), time=0, flip=1):\n",
    "    delta = (0 if time != 0 else 7) * np.array([1,0])\n",
    "    left = (origin-time*x_unit).tolist()\n",
    "    bot_l = (origin-time*x_unit-(length-time)*y_unit).tolist()\n",
    "    bot_r = (origin+time*x_unit-(length-time)*y_unit+delta).tolist()\n",
    "    right = (origin+time*x_unit+delta).tolist()\n",
    "    v1 = {'start': left, 'end': bot_l, **segment_stroke}\n",
    "    dwg.add(dwg.line(**v1))\n",
    "    v2 = {'start': right, 'end': bot_r, **segment_stroke}\n",
    "    dwg.add(dwg.line(**v2))\n",
    "    h = {'start': bot_l, 'end': bot_r, **segment_stroke}\n",
    "    dwg.add(dwg.line(**h))\n",
    "    for l,d in zip([h, v1, v2], [-y_unit, -x_unit, x_unit]):\n",
    "        l_pos = np.array(l['start'])\n",
    "        num_arrows = int(np.linalg.norm(l['end'] - l_pos)/t)\n",
    "        inc = (l['end'] - l_pos)/num_arrows\n",
    "        l_pos = l_pos +  inc//2\n",
    "        arrow = arrow_blue if d[0]==0 else arrow_stroke\n",
    "        if num_arrows > 0:\n",
    "            for _ in range(num_arrows):\n",
    "                dwg.add(dwg.line(l_pos.tolist(), (l_pos+d*flip*arrow_len).tolist(), **arrow))\n",
    "                l_pos = l_pos + inc\n",
    "        else:\n",
    "            inc = (l['end'] + np.array(l['start']))/2\n",
    "            dwg.add(dwg.line(inc.tolist(), (inc+d*arrow_len).tolist(), **arrow))"
   ]
  },
  {
   "cell_type": "code",
   "execution_count": 403,
   "metadata": {},
   "outputs": [
    {
     "name": "stderr",
     "output_type": "stream",
     "text": [
      "/home/shankha/Origami/extruded-surfaces/notebooks/env/lib/python3.6/site-packages/ipykernel_launcher.py:22: RuntimeWarning: divide by zero encountered in true_divide\n",
      "/home/shankha/Origami/extruded-surfaces/notebooks/env/lib/python3.6/site-packages/ipykernel_launcher.py:22: RuntimeWarning: invalid value encountered in true_divide\n",
      "/home/shankha/Origami/extruded-surfaces/notebooks/env/lib/python3.6/site-packages/ipykernel_launcher.py:23: RuntimeWarning: invalid value encountered in floor_divide\n"
     ]
    }
   ],
   "source": [
    "for i in range(length//t+1):\n",
    "    draw(origin, i*t)\n",
    "    origin = origin + (i+2)*2*t*x_unit\n",
    "for j in range(length//t):\n",
    "    i = length//t - 1 - j\n",
    "    draw(origin, i*t, -1)\n",
    "    origin = origin + (i+1)*2*t*x_unit"
   ]
  },
  {
   "cell_type": "code",
   "execution_count": 404,
   "metadata": {},
   "outputs": [],
   "source": [
    "dwg.save()"
   ]
  },
  {
   "cell_type": "code",
   "execution_count": 405,
   "metadata": {},
   "outputs": [
    {
     "data": {
      "text/plain": [
       "[]"
      ]
     },
     "execution_count": 405,
     "metadata": {},
     "output_type": "execute_result"
    }
   ],
   "source": [
    "list(range(5,2))"
   ]
  },
  {
   "cell_type": "code",
   "execution_count": null,
   "metadata": {},
   "outputs": [],
   "source": []
  }
 ],
 "metadata": {
  "kernelspec": {
   "display_name": "Python 3",
   "language": "python",
   "name": "python3"
  },
  "language_info": {
   "codemirror_mode": {
    "name": "ipython",
    "version": 3
   },
   "file_extension": ".py",
   "mimetype": "text/x-python",
   "name": "python",
   "nbconvert_exporter": "python",
   "pygments_lexer": "ipython3",
   "version": "3.6.3"
  }
 },
 "nbformat": 4,
 "nbformat_minor": 2
}
