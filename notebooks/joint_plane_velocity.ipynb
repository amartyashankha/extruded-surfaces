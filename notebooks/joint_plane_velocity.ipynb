{
 "cells": [
  {
   "cell_type": "code",
   "execution_count": 525,
   "metadata": {},
   "outputs": [],
   "source": [
    "import svgwrite\n",
    "import numpy as np"
   ]
  },
  {
   "cell_type": "code",
   "execution_count": 536,
   "metadata": {},
   "outputs": [],
   "source": [
    "dwg = svgwrite.Drawing('test.svg')"
   ]
  },
  {
   "cell_type": "code",
   "execution_count": 537,
   "metadata": {},
   "outputs": [],
   "source": [
    "segment_stroke = {'stroke': 'black', 'stroke_width': 7}\n",
    "traj_stroke = {'stroke': 'blue', 'stroke_width': 4}\n",
    "joint_traj_stroke = {'stroke': 'orange', 'stroke_width': 3}\n",
    "arrow_stroke = {'stroke': 'green', 'stroke_width': 3}\n",
    "tan_theta = 4/3\n",
    "cot_theta = 1/tan_theta\n",
    "cos_theta = 1/np.sqrt(tan_theta*tan_theta + 1)\n",
    "sin_theta = 1/np.sqrt(cot_theta*cot_theta + 1)"
   ]
  },
  {
   "cell_type": "code",
   "execution_count": 538,
   "metadata": {},
   "outputs": [],
   "source": [
    "start = 1000\n",
    "arrow_length = 100\n",
    "numArrows = 8\n",
    "d = 240\n",
    "origin = np.array([start,d])\n",
    "\n",
    "ln = 500\n",
    "beg = origin + np.array([-start,0])\n",
    "\n",
    "L = -d*2\n",
    "R = -L\n",
    "\n",
    "dr = np.array([cos_theta, sin_theta])\n",
    "orth = np.array([-sin_theta, cos_theta])\n",
    "\n",
    "a = (origin+(L, 0))\n",
    "J = b = (origin+(0, 0))\n",
    "Jd = ad = (origin+(L, -d))\n",
    "bd = b + d*orth\n",
    "\n",
    "l = {'start': beg.tolist(), 'end': b.tolist(), **segment_stroke}\n",
    "r = {'start': b.tolist(), 'end': (origin+ln*dr).tolist(), **segment_stroke}\n",
    "\n",
    "lf = {'start': (beg + (0,-d)).tolist(), 'end': ad.tolist(), **segment_stroke}\n",
    "rf = {'start': ad.tolist(), 'end': (origin+ln*dr+d*orth).tolist(), **segment_stroke}\n",
    "\n",
    "a_traj = {'start': a.tolist(), 'end': ad.tolist(), **traj_stroke}\n",
    "b_traj = {'start': b.tolist(), 'end': bd.tolist(), **traj_stroke}\n",
    "J_traj = {'start': J.tolist(), 'end': Jd.tolist(), **joint_traj_stroke}\n",
    "\n",
    "l_pos = origin\n",
    "r_pos = origin\n",
    "for i in range(numArrows-1):\n",
    "    l_pos = l_pos + (start/numArrows)*np.array([-1,0])\n",
    "    r_pos = r_pos + (ln/numArrows)*dr\n",
    "    dwg.add(dwg.line((l_pos-arrow_length*np.array([0,1])).tolist(), l_pos.tolist(), **arrow_stroke))\n",
    "    dwg.add(dwg.line((r_pos+arrow_length*orth).tolist(), r_pos.tolist(), **arrow_stroke))"
   ]
  },
  {
   "cell_type": "code",
   "execution_count": 539,
   "metadata": {},
   "outputs": [
    {
     "data": {
      "text/plain": [
       "<svgwrite.shapes.Line at 0x7fa033984a20>"
      ]
     },
     "execution_count": 539,
     "metadata": {},
     "output_type": "execute_result"
    }
   ],
   "source": [
    "dwg.add(dwg.line(**a_traj))\n",
    "dwg.add(dwg.line(**b_traj))\n",
    "dwg.add(dwg.line(**J_traj))\n",
    "dwg.add(dwg.line(**l))\n",
    "dwg.add(dwg.line(**lf))\n",
    "dwg.add(dwg.line(**r))\n",
    "dwg.add(dwg.line(**rf))"
   ]
  },
  {
   "cell_type": "code",
   "execution_count": 540,
   "metadata": {},
   "outputs": [],
   "source": [
    "dwg.save()"
   ]
  },
  {
   "cell_type": "code",
   "execution_count": 542,
   "metadata": {},
   "outputs": [
    {
     "data": {
      "text/plain": [
       "array([ 0.6,  0.8])"
      ]
     },
     "execution_count": 542,
     "metadata": {},
     "output_type": "execute_result"
    }
   ],
   "source": [
    "dr"
   ]
  }
 ],
 "metadata": {
  "kernelspec": {
   "display_name": "Python 3",
   "language": "python",
   "name": "python3"
  },
  "language_info": {
   "codemirror_mode": {
    "name": "ipython",
    "version": 3
   },
   "file_extension": ".py",
   "mimetype": "text/x-python",
   "name": "python",
   "nbconvert_exporter": "python",
   "pygments_lexer": "ipython3",
   "version": "3.6.3"
  }
 },
 "nbformat": 4,
 "nbformat_minor": 2
}
